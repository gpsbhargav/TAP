{
 "cells": [
  {
   "cell_type": "markdown",
   "metadata": {},
   "source": [
    "# A look at the distribution of the number of supporting facts per question"
   ]
  },
  {
   "cell_type": "code",
   "execution_count": 1,
   "metadata": {},
   "outputs": [
    {
     "name": "stdout",
     "output_type": "stream",
     "text": [
      "Better speed can be achieved with apex installed from https://www.github.com/nvidia/apex.\n"
     ]
    }
   ],
   "source": [
    "from collections import Counter\n",
    "import string\n",
    "import re\n",
    "import argparse\n",
    "import json\n",
    "import sys\n",
    "import numpy as np\n",
    "import nltk\n",
    "import random\n",
    "import math\n",
    "import os\n",
    "import pickle\n",
    "from tqdm import tqdm, trange\n",
    "\n",
    "import pandas as pd\n",
    "import seaborn as sns\n",
    "\n",
    "import pdb\n",
    "\n",
    "from pytorch_pretrained_bert import BertTokenizer"
   ]
  },
  {
   "cell_type": "code",
   "execution_count": 2,
   "metadata": {},
   "outputs": [],
   "source": [
    "def pickler(path,pkl_name,obj):\n",
    "    with open(os.path.join(path, pkl_name), 'wb') as f:\n",
    "        pickle.dump(obj, f, pickle.HIGHEST_PROTOCOL)\n",
    "\n",
    "def unpickler(path,pkl_name):\n",
    "    with open(os.path.join(path, pkl_name) ,'rb') as f:\n",
    "        obj = pickle.load(f)\n",
    "    return obj"
   ]
  },
  {
   "cell_type": "code",
   "execution_count": 3,
   "metadata": {},
   "outputs": [],
   "source": [
    "tokenizer = BertTokenizer.from_pretrained('bert-base-uncased')"
   ]
  },
  {
   "cell_type": "code",
   "execution_count": 4,
   "metadata": {},
   "outputs": [
    {
     "name": "stdout",
     "output_type": "stream",
     "text": [
      "[CLS] : 101\n",
      "[SEP] : 102\n",
      "[PAD] : 0\n"
     ]
    }
   ],
   "source": [
    "cls_id = tokenizer.convert_tokens_to_ids([\"[CLS]\"])[0]\n",
    "sep_id = tokenizer.convert_tokens_to_ids([\"[SEP]\"])[0]\n",
    "pad_id = tokenizer.convert_tokens_to_ids([\"[PAD]\"])[0]\n",
    "                                         \n",
    "\n",
    "print(\"[CLS] : {}\".format(cls_id))\n",
    "print(\"[SEP] : {}\".format(sep_id))\n",
    "print(\"[PAD] : {}\".format(pad_id))"
   ]
  },
  {
   "cell_type": "code",
   "execution_count": 5,
   "metadata": {},
   "outputs": [],
   "source": [
    "TRAINING = False\n",
    "\n",
    "out_pkl_path = \"./\"\n",
    "\n",
    "if(TRAINING):\n",
    "    file_path = \"/home/bhargav/data/hotpotqa/hotpot_train_v1.json\"\n",
    "    out_pkl_name = \"preprocessed_train.pkl\"\n",
    "    small_out_pkl_name = \"preprocessed_train_small.pkl\"\n",
    "    small_dataset_size = 5000\n",
    "    problem_indices = [8437, 25197, 34122, 46031, 52955, 63867, 82250]\n",
    "else:\n",
    "    file_path = \"/home/bhargav/data/hotpotqa/hotpot_dev_distractor_v1.json\"\n",
    "    out_pkl_name = \"preprocessed_dev.pkl\"\n",
    "    small_out_pkl_name = \"preprocessed_dev_small.pkl\"\n",
    "    small_dataset_size = 500\n",
    "    problem_indices = [5059]\n",
    "\n",
    "max_seq_len = 510\n",
    "max_num_paragraphs = 10"
   ]
  },
  {
   "cell_type": "code",
   "execution_count": 6,
   "metadata": {},
   "outputs": [],
   "source": [
    "with open(file_path, encoding='utf8') as file:\n",
    "    dataset = json.load(file)"
   ]
  },
  {
   "cell_type": "code",
   "execution_count": 7,
   "metadata": {},
   "outputs": [
    {
     "data": {
      "text/plain": [
       "[['Scott Derrickson', 0], ['Ed Wood', 0]]"
      ]
     },
     "execution_count": 7,
     "metadata": {},
     "output_type": "execute_result"
    }
   ],
   "source": [
    "dataset[0]['supporting_facts']"
   ]
  },
  {
   "cell_type": "code",
   "execution_count": 46,
   "metadata": {},
   "outputs": [
    {
     "name": "stderr",
     "output_type": "stream",
     "text": [
      "100%|██████████| 7405/7405 [00:00<00:00, 23773.19it/s]\n"
     ]
    }
   ],
   "source": [
    "num_supporting_facts = []\n",
    "question_ids = []\n",
    "supporting_facts = []\n",
    "skipped = []\n",
    "\n",
    "for item_index, item in enumerate(tqdm(dataset)):\n",
    "    if(item_index in problem_indices):\n",
    "        skipped.append(item_index)\n",
    "        continue\n",
    "    if(len(item[\"context\"]) != 10):\n",
    "        skipped.append(item_index)\n",
    "        continue\n",
    "    question_ids.append(item[\"_id\"])\n",
    "    num_supporting_facts.append(len(item['supporting_facts']))\n",
    "    paragraph_names = []\n",
    "    for i,para in enumerate(item[\"context\"]):\n",
    "        para_name = para[0]\n",
    "        paragraph_names.append(para_name)\n",
    "    supp_fact_list = []\n",
    "    for sup_fact in item[\"supporting_facts\"]:\n",
    "        para_name = sup_fact[0]\n",
    "        supporting_fact_index = sup_fact[1] \n",
    "        para_index = paragraph_names.index(para_name)\n",
    "        supp_fact_list.append([para_index, supporting_fact_index])\n",
    "    supporting_facts.append(supp_fact_list)"
   ]
  },
  {
   "cell_type": "code",
   "execution_count": 47,
   "metadata": {},
   "outputs": [
    {
     "data": {
      "text/plain": [
       "[[1, 0], [4, 0]]"
      ]
     },
     "execution_count": 47,
     "metadata": {},
     "output_type": "execute_result"
    }
   ],
   "source": [
    "supporting_facts[0]"
   ]
  },
  {
   "cell_type": "code",
   "execution_count": 9,
   "metadata": {},
   "outputs": [],
   "source": [
    "gold_sf_counter = Counter(num_supporting_facts)"
   ]
  },
  {
   "cell_type": "code",
   "execution_count": 10,
   "metadata": {},
   "outputs": [
    {
     "data": {
      "text/plain": [
       "Counter({2: 4940, 3: 1767, 5: 80, 4: 533, 7: 9, 6: 14, 8: 1})"
      ]
     },
     "execution_count": 10,
     "metadata": {},
     "output_type": "execute_result"
    }
   ],
   "source": [
    "gold_sf_counter"
   ]
  },
  {
   "cell_type": "code",
   "execution_count": 11,
   "metadata": {},
   "outputs": [],
   "source": [
    "predicted_supporting_facts = unpickler('./','formatted_predictions.pkl')"
   ]
  },
  {
   "cell_type": "code",
   "execution_count": 12,
   "metadata": {},
   "outputs": [
    {
     "data": {
      "text/plain": [
       "dict"
      ]
     },
     "execution_count": 12,
     "metadata": {},
     "output_type": "execute_result"
    }
   ],
   "source": [
    "type(predicted_supporting_facts)"
   ]
  },
  {
   "cell_type": "code",
   "execution_count": 13,
   "metadata": {},
   "outputs": [
    {
     "data": {
      "text/plain": [
       "['5a8b57f25542995d1e6f1371',\n",
       " '5a8c7595554299585d9e36b6',\n",
       " '5a85ea095542994775f606a8',\n",
       " '5adbf0a255429947ff17385a',\n",
       " '5a8e3ea95542995a26add48d']"
      ]
     },
     "execution_count": 13,
     "metadata": {},
     "output_type": "execute_result"
    }
   ],
   "source": [
    "list(predicted_supporting_facts.keys())[:5]"
   ]
  },
  {
   "cell_type": "code",
   "execution_count": 14,
   "metadata": {},
   "outputs": [
    {
     "data": {
      "text/plain": [
       "[[], [0], [], [], [0], [], [], [], [], []]"
      ]
     },
     "execution_count": 14,
     "metadata": {},
     "output_type": "execute_result"
    }
   ],
   "source": [
    "predicted_supporting_facts['5a8b57f25542995d1e6f1371']"
   ]
  },
  {
   "cell_type": "code",
   "execution_count": 31,
   "metadata": {},
   "outputs": [
    {
     "data": {
      "text/plain": [
       "7344"
      ]
     },
     "execution_count": 31,
     "metadata": {},
     "output_type": "execute_result"
    }
   ],
   "source": [
    "len(predicted_supporting_facts)"
   ]
  },
  {
   "cell_type": "code",
   "execution_count": 15,
   "metadata": {},
   "outputs": [],
   "source": [
    "def count_num_pred_sf(predicted_supporting_facts):\n",
    "    out_list = []\n",
    "    for q_id, sf_in_each_paragraph in predicted_supporting_facts.items():\n",
    "        count = 0\n",
    "        for item in sf_in_each_paragraph:\n",
    "            if(len(item) > 0):\n",
    "                count += 1\n",
    "        out_list.append(count)\n",
    "    return out_list"
   ]
  },
  {
   "cell_type": "code",
   "execution_count": 16,
   "metadata": {},
   "outputs": [],
   "source": [
    "pred_num_supporting_facts = count_num_pred_sf(predicted_supporting_facts)\n",
    "pred_sf_counter = Counter(pred_num_supporting_facts)"
   ]
  },
  {
   "cell_type": "code",
   "execution_count": 17,
   "metadata": {},
   "outputs": [
    {
     "name": "stdout",
     "output_type": "stream",
     "text": [
      "Average number of predicted supporting facts per question:  2.1300381263616557\n",
      "Average number of gold supporting facts per question:  2.433006535947712\n"
     ]
    }
   ],
   "source": [
    "print(\"Average number of predicted supporting facts per question: \",sum(pred_num_supporting_facts)/len(pred_num_supporting_facts))\n",
    "print(\"Average number of gold supporting facts per question: \",sum(num_supporting_facts)/len(num_supporting_facts))"
   ]
  },
  {
   "cell_type": "code",
   "execution_count": 32,
   "metadata": {},
   "outputs": [],
   "source": [
    "assert(len(pred_num_supporting_facts) == len(num_supporting_facts) == len(question_ids) == len(predicted_supporting_facts))"
   ]
  },
  {
   "cell_type": "code",
   "execution_count": 40,
   "metadata": {},
   "outputs": [],
   "source": [
    "assert(len((set(question_ids) - set(predicted_supporting_facts.keys()))) \n",
    "       == len((set(predicted_supporting_facts.keys()) - set(question_ids))) \n",
    "              == 0)"
   ]
  },
  {
   "cell_type": "code",
   "execution_count": 18,
   "metadata": {},
   "outputs": [
    {
     "data": {
      "text/plain": [
       "Counter({2: 6442, 3: 828, 4: 63, 1: 8, 5: 3})"
      ]
     },
     "execution_count": 18,
     "metadata": {},
     "output_type": "execute_result"
    }
   ],
   "source": [
    "pred_sf_counter"
   ]
  },
  {
   "cell_type": "code",
   "execution_count": 19,
   "metadata": {},
   "outputs": [
    {
     "data": {
      "text/plain": [
       "Counter({2: 4940, 3: 1767, 5: 80, 4: 533, 7: 9, 6: 14, 8: 1})"
      ]
     },
     "execution_count": 19,
     "metadata": {},
     "output_type": "execute_result"
    }
   ],
   "source": [
    "gold_sf_counter"
   ]
  },
  {
   "cell_type": "code",
   "execution_count": 20,
   "metadata": {},
   "outputs": [],
   "source": [
    "count_dict = {'count':[] ,'gold':[], 'predicted':[]}\n",
    "for i in range(1,10):\n",
    "    count_dict['count'].append(i)\n",
    "    count_dict['gold'].append(gold_sf_counter[i])\n",
    "    count_dict['predicted'].append(pred_sf_counter[i])"
   ]
  },
  {
   "cell_type": "code",
   "execution_count": 21,
   "metadata": {},
   "outputs": [
    {
     "data": {
      "text/plain": [
       "{'count': [1, 2, 3, 4, 5, 6, 7, 8, 9],\n",
       " 'gold': [0, 4940, 1767, 533, 80, 14, 9, 1, 0],\n",
       " 'predicted': [8, 6442, 828, 63, 3, 0, 0, 0, 0]}"
      ]
     },
     "execution_count": 21,
     "metadata": {},
     "output_type": "execute_result"
    }
   ],
   "source": [
    "count_dict"
   ]
  },
  {
   "cell_type": "code",
   "execution_count": 22,
   "metadata": {},
   "outputs": [],
   "source": [
    "sf_df = pd.DataFrame(data=count_dict)"
   ]
  },
  {
   "cell_type": "code",
   "execution_count": 23,
   "metadata": {},
   "outputs": [
    {
     "data": {
      "text/plain": [
       "<matplotlib.axes._subplots.AxesSubplot at 0x7f1f7acdc2e8>"
      ]
     },
     "execution_count": 23,
     "metadata": {},
     "output_type": "execute_result"
    },
    {
     "data": {
      "image/png": "[encoded data removed]",
      "text/plain": [
       "<Figure size 432x288 with 1 Axes>"
      ]
     },
     "metadata": {
      "needs_background": "light"
     },
     "output_type": "display_data"
    }
   ],
   "source": [
    "sf_df.plot(x=\"count\", y=[\"gold\", \"predicted\"], kind=\"bar\")"
   ]
  },
  {
   "cell_type": "code",
   "execution_count": 41,
   "metadata": {},
   "outputs": [],
   "source": [
    "gold_id_vs_num_sf = {'question_id':[], 'count':[]}\n",
    "pred_id_vs_num_sf = {'question_id':[], 'count':[]}\n",
    "\n",
    "for i in range(len(question_ids)):\n",
    "    gold_id_vs_num_sf[question_ids[i]] = num_supporting_facts[i]\n",
    "    pred_id_vs_num_sf[question_ids[i]] = pred_num_supporting_facts[i]"
   ]
  },
  {
   "cell_type": "code",
   "execution_count": 42,
   "metadata": {},
   "outputs": [
    {
     "data": {
      "text/plain": [
       "True"
      ]
     },
     "execution_count": 42,
     "metadata": {},
     "output_type": "execute_result"
    }
   ],
   "source": [
    "gold_id_vs_num_sf.keys() == pred_id_vs_num_sf.keys()"
   ]
  },
  {
   "cell_type": "code",
   "execution_count": 43,
   "metadata": {},
   "outputs": [],
   "source": [
    "sf_counts_pred_and_gold = {'gold': gold_id_vs_num_sf, 'pred': pred_id_vs_num_sf}"
   ]
  },
  {
   "cell_type": "code",
   "execution_count": 45,
   "metadata": {},
   "outputs": [],
   "source": [
    "pickler('./','sf_counts_pred_and_gold.pkl', sf_counts_pred_and_gold)"
   ]
  },
  {
   "cell_type": "code",
   "execution_count": null,
   "metadata": {},
   "outputs": [],
   "source": []
  }
 ],
 "metadata": {
  "kernelspec": {
   "display_name": "Python 3",
   "language": "python",
   "name": "python3"
  },
  "language_info": {
   "codemirror_mode": {
    "name": "ipython",
    "version": 3
   },
   "file_extension": ".py",
   "mimetype": "text/x-python",
   "name": "python",
   "nbconvert_exporter": "python",
   "pygments_lexer": "ipython3",
   "version": "3.7.1"
  }
 },
 "nbformat": 4,
 "nbformat_minor": 2
}
